{
 "cells": [
  {
   "cell_type": "markdown",
   "metadata": {},
   "source": [
    "# Simulation Testing\n",
    "\n",
    "Testing the basic functionality of simpy\n",
    "\n",
    "## Basic operation of a car"
   ]
  },
  {
   "cell_type": "code",
   "execution_count": 35,
   "metadata": {},
   "outputs": [],
   "source": [
    "import simpy\n",
    "import simpy.rt as srt\n",
    "import random\n",
    "from datetime import datetime, timedelta"
   ]
  },
  {
   "cell_type": "code",
   "execution_count": 8,
   "metadata": {},
   "outputs": [],
   "source": [
    "data = []\n",
    "\n",
    "def test_process(env, data):\n",
    "    val = 0\n",
    "    for i in range(5):\n",
    "        val += env.now\n",
    "        data.append(val)\n",
    "        yield env.timeout(1)"
   ]
  },
  {
   "cell_type": "code",
   "execution_count": 9,
   "metadata": {},
   "outputs": [],
   "source": [
    "env = simpy.Environment()\n",
    "\n",
    "p = env.process(test_process(env, data))\n",
    "\n",
    "env.run(p)"
   ]
  },
  {
   "cell_type": "code",
   "execution_count": 10,
   "metadata": {},
   "outputs": [
    {
     "name": "stdout",
     "output_type": "stream",
     "text": [
      "[0, 1, 3, 6, 10]\n"
     ]
    }
   ],
   "source": [
    "print(data)"
   ]
  },
  {
   "cell_type": "markdown",
   "metadata": {},
   "source": [
    "# More complex routine with a car\n",
    "\n",
    "A car will alternate between parking and driving"
   ]
  },
  {
   "cell_type": "code",
   "execution_count": 12,
   "metadata": {},
   "outputs": [],
   "source": [
    "def car(env):\n",
    "    while True:\n",
    "        print('start parking at: %d' % env.now)\n",
    "        parking_duration = 10 + random.randint(-5, 20)\n",
    "        yield env.timeout(parking_duration)\n",
    "\n",
    "        print('start driving at: %d' % env.now)\n",
    "        trip_duration = 20 + random.randint(-10, 60)\n",
    "        yield env.timeout(trip_duration)\n",
    "\n",
    "        "
   ]
  },
  {
   "cell_type": "code",
   "execution_count": 29,
   "metadata": {},
   "outputs": [
    {
     "name": "stdout",
     "output_type": "stream",
     "text": [
      "start parking at: 0\n",
      "start driving at: 5\n",
      "start parking at: 53\n",
      "start driving at: 64\n",
      "start parking at: 99\n",
      "start driving at: 128\n"
     ]
    }
   ],
   "source": [
    "env = simpy.Environment()\n",
    "env.process(car(env))\n",
    "env.run(until=60*3)"
   ]
  },
  {
   "cell_type": "code",
   "execution_count": 27,
   "metadata": {},
   "outputs": [
    {
     "name": "stdout",
     "output_type": "stream",
     "text": [
      "start parking at: 0\n",
      "start driving at: 21\n",
      "start parking at: 34\n",
      "start driving at: 52\n",
      "start parking at: 67\n",
      "start driving at: 76\n",
      "start parking at: 149\n",
      "start driving at: 168\n"
     ]
    }
   ],
   "source": [
    "env = srt.RealtimeEnvironment(factor=0.05)\n",
    "env.process(car(env))\n",
    "env.run(until=60*3)"
   ]
  },
  {
   "cell_type": "markdown",
   "metadata": {},
   "source": [
    "## Single station test\n",
    "\n",
    "Test with 5 cars, each takes in average 120 mins to charge, with 3 spots available at charging station, simulate until all cars finished charging."
   ]
  },
  {
   "cell_type": "code",
   "execution_count": 52,
   "metadata": {},
   "outputs": [],
   "source": [
    "def car(env, name, bcs, driving_time, charge_duration, now_time):\n",
    "    # Simulate driving to the BCS\n",
    "    yield env.timeout(driving_time)\n",
    "\n",
    "    # Request one of its charging spots\n",
    "    print('%s arriving at %s' % (name, now_time + timedelta(minutes=env.now)))\n",
    "    with bcs.request() as req:\n",
    "        yield req\n",
    "\n",
    "        # Charge the battery\n",
    "        print('%s starting to charge at %s' % (name, now_time + timedelta(minutes=env.now)))\n",
    "        yield env.timeout(charge_duration)\n",
    "        print('%s leaving the charging station at %s' % (name, now_time + timedelta(minutes=env.now)))"
   ]
  },
  {
   "cell_type": "code",
   "execution_count": 59,
   "metadata": {},
   "outputs": [],
   "source": [
    "env = simpy.Environment()\n",
    "# env = srt.RealtimeEnvironment(factor=1)\n",
    "bcs = simpy.Resource(env, capacity=3)\n",
    "now = datetime.now()\n",
    "for i in range(5):\n",
    "    env.process(car(env, 'Car %d' % i, bcs, 20 + random.randint(-10, 60), 120 + random.randint(-10, 10), now))"
   ]
  },
  {
   "cell_type": "code",
   "execution_count": 60,
   "metadata": {},
   "outputs": [
    {
     "name": "stdout",
     "output_type": "stream",
     "text": [
      "Car 4 arriving at 2024-03-16 23:15:17.994967\n",
      "Car 4 starting to charge at 2024-03-16 23:15:17.994967\n",
      "Car 3 arriving at 2024-03-16 23:28:17.994967\n",
      "Car 3 starting to charge at 2024-03-16 23:28:17.994967\n",
      "Car 0 arriving at 2024-03-16 23:39:17.994967\n",
      "Car 0 starting to charge at 2024-03-16 23:39:17.994967\n",
      "Car 2 arriving at 2024-03-16 23:54:17.994967\n",
      "Car 1 arriving at 2024-03-17 00:10:17.994967\n",
      "Car 4 leaving the charging station at 2024-03-17 01:11:17.994967\n",
      "Car 2 starting to charge at 2024-03-17 01:11:17.994967\n",
      "Car 0 leaving the charging station at 2024-03-17 01:36:17.994967\n",
      "Car 1 starting to charge at 2024-03-17 01:36:17.994967\n",
      "Car 3 leaving the charging station at 2024-03-17 01:38:17.994967\n",
      "Car 2 leaving the charging station at 2024-03-17 03:06:17.994967\n",
      "Car 1 leaving the charging station at 2024-03-17 03:40:17.994967\n"
     ]
    }
   ],
   "source": [
    "env.run()"
   ]
  },
  {
   "cell_type": "markdown",
   "metadata": {},
   "source": [
    "## Learning points\n",
    "\n",
    "Have to look at how realtime simulation works in simpy\n",
    "\n",
    "Alternatively, look at how we can run a routine in parallel"
   ]
  }
 ],
 "metadata": {
  "kernelspec": {
   "display_name": "base",
   "language": "python",
   "name": "python3"
  },
  "language_info": {
   "codemirror_mode": {
    "name": "ipython",
    "version": 3
   },
   "file_extension": ".py",
   "mimetype": "text/x-python",
   "name": "python",
   "nbconvert_exporter": "python",
   "pygments_lexer": "ipython3",
   "version": "3.11.8"
  }
 },
 "nbformat": 4,
 "nbformat_minor": 2
}
